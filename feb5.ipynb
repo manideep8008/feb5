{
 "cells": [
  {
   "cell_type": "markdown",
   "id": "13d9e7b6",
   "metadata": {},
   "source": [
    "Ans1:\n",
    "\n",
    "A Class in object oriented programming is a blueprint or prototype that defines the variables and the methods (function).\n",
    "\n",
    "An object in OOPS is a specimen of a class.\n",
    "Instance of class is object."
   ]
  },
  {
   "cell_type": "code",
   "execution_count": 5,
   "id": "3f384255",
   "metadata": {},
   "outputs": [],
   "source": [
    "class temp:\n",
    "    def __init__(self,name):\n",
    "        self.name=name\n",
    "    def sayHello(self):\n",
    "        print(\"hello\",self.name)\n",
    "\n",
    "        "
   ]
  },
  {
   "cell_type": "code",
   "execution_count": 8,
   "id": "e34ef543",
   "metadata": {},
   "outputs": [
    {
     "name": "stdout",
     "output_type": "stream",
     "text": [
      "hello name1\n"
     ]
    }
   ],
   "source": [
    "a=temp('name1')\n",
    "a.sayHello()"
   ]
  },
  {
   "cell_type": "markdown",
   "id": "49b84183",
   "metadata": {},
   "source": [
    "Ans2:\n",
    "\n",
    "    Inheritance.\n",
    "    Polymorphism.\n",
    "    Encapsulation.\n",
    "    Abstraction"
   ]
  },
  {
   "cell_type": "markdown",
   "id": "8cc227aa",
   "metadata": {},
   "source": [
    "Ans3:\n",
    "\n",
    "    __init__ is a constructor od the class"
   ]
  },
  {
   "cell_type": "code",
   "execution_count": 16,
   "id": "7d0e7262",
   "metadata": {},
   "outputs": [],
   "source": [
    "class temp1:\n",
    "    def __init__(self,name,DOB,phoneNum):\n",
    "        self.name=name\n",
    "        self.DOB=DOB\n",
    "        self.phoneNum=phoneNum\n",
    "    def returnDet(self):\n",
    "        return self.name,self.DOB,self.phoneNum"
   ]
  },
  {
   "cell_type": "code",
   "execution_count": 17,
   "id": "0cf28a3c",
   "metadata": {},
   "outputs": [],
   "source": [
    "a=temp1('a',23,12345)"
   ]
  },
  {
   "cell_type": "code",
   "execution_count": 18,
   "id": "c436fff3",
   "metadata": {},
   "outputs": [
    {
     "data": {
      "text/plain": [
       "('a', 23, 12345)"
      ]
     },
     "execution_count": 18,
     "metadata": {},
     "output_type": "execute_result"
    }
   ],
   "source": [
    "a.returnDet()"
   ]
  },
  {
   "cell_type": "markdown",
   "id": "8a3d33cc",
   "metadata": {},
   "source": [
    "Ans4:\n",
    "\n",
    "    self is reference variable to current object.\n",
    "    It is not mandatory to use self we can use any name we want\n",
    "    "
   ]
  },
  {
   "cell_type": "markdown",
   "id": "0fdb1810",
   "metadata": {},
   "source": [
    "Ans5:\n",
    "    Inheritance allows us to define a class that inherits all the methods and properties from another class.\n",
    "\n",
    "     Parent class is the class being inherited from, also called base class.\n",
    "\n",
    "    Child class is the class that inherits from another class, also called derived class.\n",
    "    \n",
    "    "
   ]
  },
  {
   "cell_type": "code",
   "execution_count": 19,
   "id": "96793ce3",
   "metadata": {},
   "outputs": [],
   "source": [
    "class parent:\n",
    "    def __init__(self,name,PhoneNo):\n",
    "        self.name=name\n",
    "        self.PhoneNo=PhoneNo\n",
    "    def sayHello(self):\n",
    "        print(\"hello\",self.name)\n",
    "        "
   ]
  },
  {
   "cell_type": "code",
   "execution_count": 20,
   "id": "4714edda",
   "metadata": {},
   "outputs": [],
   "source": [
    "a=parent('a',1234)"
   ]
  },
  {
   "cell_type": "code",
   "execution_count": 21,
   "id": "f86529ee",
   "metadata": {},
   "outputs": [
    {
     "name": "stdout",
     "output_type": "stream",
     "text": [
      "hello a\n"
     ]
    }
   ],
   "source": [
    "a.sayHello()"
   ]
  },
  {
   "cell_type": "code",
   "execution_count": 22,
   "id": "0d6f2571",
   "metadata": {},
   "outputs": [],
   "source": [
    "class child(parent):\n",
    "    pass"
   ]
  },
  {
   "cell_type": "code",
   "execution_count": 23,
   "id": "4e2677af",
   "metadata": {},
   "outputs": [
    {
     "name": "stdout",
     "output_type": "stream",
     "text": [
      "hello b\n"
     ]
    }
   ],
   "source": [
    "b=child('b',12453)\n",
    "b.sayHello()"
   ]
  }
 ],
 "metadata": {
  "kernelspec": {
   "display_name": "Python 3 (ipykernel)",
   "language": "python",
   "name": "python3"
  },
  "language_info": {
   "codemirror_mode": {
    "name": "ipython",
    "version": 3
   },
   "file_extension": ".py",
   "mimetype": "text/x-python",
   "name": "python",
   "nbconvert_exporter": "python",
   "pygments_lexer": "ipython3",
   "version": "3.9.13"
  }
 },
 "nbformat": 4,
 "nbformat_minor": 5
}
